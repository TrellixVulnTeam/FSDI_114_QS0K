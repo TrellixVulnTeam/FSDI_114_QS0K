{
 "cells": [
  {
   "cell_type": "markdown",
   "id": "ce803b2c",
   "metadata": {},
   "source": [
    "# Mini Challenge 1\n",
    "### Use what we learned last class to create a simple linked list that allows us to append and insert new nodes(not remove -- yet).\n",
    "\n",
    "The following test cases can be used to validate your results:\n",
    "\n",
    "\n",
    "```\n",
    "mylist = LinkedList()\n",
    "for i in range(5):\n",
    "   mylist.append(i)\n",
    "   \n",
    "current = mylist.head   \n",
    "for i in range(5):\n",
    "    assert current.data == i\n",
    "    \n",
    "mylist.insert(0, -1)\n",
    "\n",
    "assert mylist.head.data == -1\n",
    "\n",
    "\n",
    "````"
   ]
  },
  {
   "cell_type": "code",
   "execution_count": 1,
   "id": "6f65dee6",
   "metadata": {},
   "outputs": [
    {
     "name": "stdout",
     "output_type": "stream",
     "text": [
      "3\n"
     ]
    }
   ],
   "source": [
    "\n",
    "class Node:\n",
    "\n",
    "  def __init__(self, data, next=None): \n",
    "    self.data = data\n",
    "    self.next = next\n",
    "\n",
    "\n",
    "first = Node(3)\n",
    "print(first.data)"
   ]
  },
  {
   "cell_type": "code",
   "execution_count": 23,
   "id": "0cab7cf1",
   "metadata": {},
   "outputs": [
    {
     "name": "stdout",
     "output_type": "stream",
     "text": [
      "3\n"
     ]
    }
   ],
   "source": [
    "class LinkedList:\n",
    "  def __init__(self):  \n",
    "    self.head = None\n",
    "\n",
    "\n",
    "mylist = LinkedList()\n",
    "mylist.head = Node(3)\n",
    "print(mylist.head.data)"
   ]
  },
  {
   "cell_type": "code",
   "execution_count": 43,
   "id": "567a2c1d",
   "metadata": {},
   "outputs": [],
   "source": [
    "\n",
    "class Node:\n",
    "\n",
    "  def __init__(self, data = None, next=None): \n",
    "    self.data = data\n",
    "    self.next = next\n",
    "\n",
    "\n",
    "class LinkedList:\n",
    "  def __init__(self):  \n",
    "    self.head = None\n",
    "   \n",
    "  \n",
    " \n",
    "  def append(self, data):\n",
    "    newNode = Node(data)\n",
    "    if(self.head):\n",
    "      current = self.head\n",
    "      while(current.next):\n",
    "        current = current.next\n",
    "      current.next = newNode\n",
    "    else:\n",
    "      self.head = newNode\n",
    "  \n",
    "\n",
    "  def printLL(self):\n",
    "    current = self.head\n",
    "    while(current):\n",
    "      print(current.data)\n",
    "      current = current.next\n",
    "\n",
    "    def insert(self, index, data):\n",
    "        mylist = LinkedList()\n",
    "    mylist.insert(0, -1)\n"
   ]
  },
  {
   "cell_type": "code",
   "execution_count": 44,
   "id": "d0bac323",
   "metadata": {},
   "outputs": [
    {
     "ename": "AttributeError",
     "evalue": "'LinkedList' object has no attribute 'insert'",
     "output_type": "error",
     "traceback": [
      "\u001b[0;31m---------------------------------------------------------------------------\u001b[0m",
      "\u001b[0;31mAttributeError\u001b[0m                            Traceback (most recent call last)",
      "Input \u001b[0;32mIn [44]\u001b[0m, in \u001b[0;36m<cell line: 2>\u001b[0;34m()\u001b[0m\n\u001b[1;32m      1\u001b[0m mylist\u001b[38;5;241m=\u001b[39m LinkedList()\n\u001b[1;32m      2\u001b[0m \u001b[38;5;28;01mfor\u001b[39;00m i \u001b[38;5;129;01min\u001b[39;00m \u001b[38;5;28mrange\u001b[39m(\u001b[38;5;241m5\u001b[39m):\n\u001b[0;32m----> 3\u001b[0m    \u001b[43mmylist\u001b[49m\u001b[38;5;241;43m.\u001b[39;49m\u001b[43minsert\u001b[49m(i)\n\u001b[1;32m      5\u001b[0m current \u001b[38;5;241m=\u001b[39m mylist\u001b[38;5;241m.\u001b[39mhead   \n\u001b[1;32m      6\u001b[0m \u001b[38;5;28;01mfor\u001b[39;00m i \u001b[38;5;129;01min\u001b[39;00m \u001b[38;5;28mrange\u001b[39m(\u001b[38;5;241m5\u001b[39m):\n",
      "\u001b[0;31mAttributeError\u001b[0m: 'LinkedList' object has no attribute 'insert'"
     ]
    }
   ],
   "source": [
    "mylist= LinkedList()\n",
    "for i in range(5):\n",
    "   mylist.insert(i)\n",
    "   \n",
    "current = mylist.head   \n",
    "for i in range(5):\n",
    "    assert current.data == i\n",
    "    current = current.next\n",
    "    \n",
    "mylist.insert(0, -1)\n",
    "\n",
    "assert mylist.head.data == -1"
   ]
  },
  {
   "cell_type": "code",
   "execution_count": null,
   "id": "3ccea148",
   "metadata": {},
   "outputs": [],
   "source": []
  }
 ],
 "metadata": {
  "kernelspec": {
   "display_name": "Python 3 (ipykernel)",
   "language": "python",
   "name": "python3"
  },
  "language_info": {
   "codemirror_mode": {
    "name": "ipython",
    "version": 3
   },
   "file_extension": ".py",
   "mimetype": "text/x-python",
   "name": "python",
   "nbconvert_exporter": "python",
   "pygments_lexer": "ipython3",
   "version": "3.8.10"
  }
 },
 "nbformat": 4,
 "nbformat_minor": 5
}
