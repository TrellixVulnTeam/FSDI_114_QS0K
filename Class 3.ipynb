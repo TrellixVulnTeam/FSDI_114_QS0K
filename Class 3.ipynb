{
 "cells": [
  {
   "cell_type": "code",
   "execution_count": 4,
   "id": "49a2148c",
   "metadata": {},
   "outputs": [
    {
     "ename": "SyntaxError",
     "evalue": "invalid syntax (1108750672.py, line 31)",
     "output_type": "error",
     "traceback": [
      "\u001b[0;36m  Input \u001b[0;32mIn [4]\u001b[0;36m\u001b[0m\n\u001b[0;31m    if (len(s) % 2) != 0\u001b[0m\n\u001b[0m                        ^\u001b[0m\n\u001b[0;31mSyntaxError\u001b[0m\u001b[0;31m:\u001b[0m invalid syntax\n"
     ]
    }
   ],
   "source": [
    "# define function of balance_check with parameters: string s\n",
    "# if the length of s is not even:\n",
    "#     return false\n",
    "# --> what happens otherwise?\n",
    "# elif statement to continue if the statement is true\n",
    "#     return true\n",
    "# continue to function to check parentheses\n",
    "# opening_brackets = (\"(\", \"{\", \"[\")\n",
    "# valid_pairs = {\n",
    "#    {\"(\", \")\"},\n",
    "#    {\"{\", \"}\"},\n",
    "#    {\"[\", \"]\"}\n",
    "# }\n",
    "# for each bracket in s:\n",
    "#check if bracket is in opening_brackets\n",
    "#    if it is:\n",
    "#        something should happen here\n",
    "#        append it to mystack\n",
    "#    if it isn't:\n",
    "#        soemthing else should happen here\n",
    "#        pop last element from mystack and store it in temp\n",
    "#        if {temp, bracket} is not in valid_pairs:\n",
    "#            return false\n",
    "#if mystack is empty\"\n",
    "#    return True\n",
    "#otherwise:\n",
    "#    return False\n",
    "\n",
    "\n",
    "def balance_check(s):\n",
    "    if (len(s) % 2) != 0\n",
    "    return False\n",
    "\n",
    "    stack = []\n",
    "    pair = {\"(\" : \")\", \"{\" : \"}\", \"[\" : \"]\"}\n",
    "    opening =set(\"{[(\")\n",
    "    for i in s :\n",
    "        if s in opening :\n",
    "            stack.append(i)\n",
    "        else:\n",
    "            element = stack.pop()\n",
    "            if pair.get\n",
    "\n",
    "\n",
    "\n",
    "class Node:\n",
    "    def init(self, data):\n",
    "        self.data = data\n",
    "        self.next = None\n",
    "\n",
    "\n",
    "\n",
    "head = Node(0)\n",
    "\n",
    "new_node1 = Node(1)\n",
    "new_node2 = Node(2)\n",
    "new_node3 = Node(3)\n",
    "\n",
    "head.next = new_node1\n",
    "new_node1.next = new_node2\n",
    "new_node2.next = new_node3\n",
    "\n",
    "current = head\n",
    "while current:\n",
    "    print(current.data)\n",
    "    current = current.next\n",
    "\n",
    "\n",
    "mylist = [1, 2, 3, 4]\n",
    "mylist2 = ((1, 2, 3, 4))\n",
    "\n",
    "print(mylist)\n",
    "print(mylist2)\n",
    "\n",
    "# help(mylist) glossary of code when run!!! Structure help\n",
    "\n",
    "\n",
    "class SinglyLinkedList:\n",
    "    def init(self):\n",
    "        self.head = None\n",
    "\n",
    "    # We can add data at the beginning end and in between the head \n",
    "    # and tail of our list"
   ]
  },
  {
   "cell_type": "code",
   "execution_count": 3,
   "id": "6ec38b90",
   "metadata": {},
   "outputs": [
    {
     "ename": "IndentationError",
     "evalue": "unindent does not match any outer indentation level (<tokenize>, line 10)",
     "output_type": "error",
     "traceback": [
      "\u001b[0;36m  File \u001b[0;32m<tokenize>:10\u001b[0;36m\u001b[0m\n\u001b[0;31m    def insert(self, index, item):\u001b[0m\n\u001b[0m    ^\u001b[0m\n\u001b[0;31mIndentationError\u001b[0m\u001b[0;31m:\u001b[0m unindent does not match any outer indentation level\n"
     ]
    }
   ],
   "source": [
    "  def append(self, item):\n",
    "        if not self.head:\n",
    "            self.head = Node(item)\n",
    "            else:\n",
    "                current = head\n",
    "                while current.next:\n",
    "                    current = current.next\n",
    "                current.next = Node(item)\n",
    "\n",
    "    def insert(self, index, item):\n",
    "        #What happens if insert is called on a newly created instance\n",
    "        #of this class?\n",
    "        #What happens when you do insert (0, \"something\")\n",
    "        #What happens if you call insert with an index that exceeds the\n",
    "        #length of our list?"
   ]
  },
  {
   "cell_type": "code",
   "execution_count": null,
   "id": "da074f11",
   "metadata": {},
   "outputs": [],
   "source": []
  }
 ],
 "metadata": {
  "kernelspec": {
   "display_name": "Python 3 (ipykernel)",
   "language": "python",
   "name": "python3"
  },
  "language_info": {
   "codemirror_mode": {
    "name": "ipython",
    "version": 3
   },
   "file_extension": ".py",
   "mimetype": "text/x-python",
   "name": "python",
   "nbconvert_exporter": "python",
   "pygments_lexer": "ipython3",
   "version": "3.8.10"
  }
 },
 "nbformat": 4,
 "nbformat_minor": 5
}
