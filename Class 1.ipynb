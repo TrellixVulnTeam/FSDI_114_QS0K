{
 "cells": [
  {
   "cell_type": "code",
   "execution_count": 1,
   "id": "937c8ffb",
   "metadata": {},
   "outputs": [
    {
     "name": "stdout",
     "output_type": "stream",
     "text": [
      "h\n",
      "e\n",
      "l\n",
      "l\n",
      "o\n",
      ",\n",
      " \n",
      "w\n",
      "o\n",
      "r\n",
      "l\n",
      "d\n"
     ]
    }
   ],
   "source": [
    "for letter in \"hello, world\":\n",
    "    print(letter)"
   ]
  },
  {
   "cell_type": "markdown",
   "id": "d4f7e3b2",
   "metadata": {},
   "source": [
    "# Problem 1\n",
    "### Given 2 strings (string_a and string_b) let's check whether or not they are anagrams of each other given the following:\n",
    "\n",
    "> Two strings are only anagrams of each other if all conditions below are met:\n",
    "> * They must be exactly the same length.\n",
    "> * They must use exactly the same charecters (no more, no less).\n",
    "Examples(s): cars and scar, heart and earth, etc."
   ]
  },
  {
   "cell_type": "code",
   "execution_count": 2,
   "id": "f45311ae",
   "metadata": {},
   "outputs": [],
   "source": []
  },
  {
   "cell_type": "code",
   "execution_count": 10,
   "id": "5f7e60e1",
   "metadata": {},
   "outputs": [
    {
     "name": "stdout",
     "output_type": "stream",
     "text": [
      "True\n",
      "False\n"
     ]
    }
   ],
   "source": [
    "def checkAnagram(word1, word2):\n",
    "    listWord1 = list(word1)\n",
    "    listWord1.sort()\n",
    "    listWord2 = list(word2)\n",
    "    listWord2.sort()\n",
    "    return (listWord1 == listWord2)\n",
    "\n",
    "print(checkAnagram(\"face\", \"cafe\"))\n",
    "print(checkAnagram(\"face\", \"caffe\"))"
   ]
  },
  {
   "cell_type": "code",
   "execution_count": null,
   "id": "a3eda321",
   "metadata": {},
   "outputs": [],
   "source": []
  }
 ],
 "metadata": {
  "kernelspec": {
   "display_name": "Python 3 (ipykernel)",
   "language": "python",
   "name": "python3"
  },
  "language_info": {
   "codemirror_mode": {
    "name": "ipython",
    "version": 3
   },
   "file_extension": ".py",
   "mimetype": "text/x-python",
   "name": "python",
   "nbconvert_exporter": "python",
   "pygments_lexer": "ipython3",
   "version": "3.8.10"
  }
 },
 "nbformat": 4,
 "nbformat_minor": 5
}
