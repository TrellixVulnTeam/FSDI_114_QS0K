{
 "cells": [
  {
   "cell_type": "code",
   "execution_count": 1,
   "id": "cf615ff8",
   "metadata": {},
   "outputs": [],
   "source": [
    "class Stack:\n",
    "    def __init__(self):\n",
    "        self.items = []\n",
    "        \n",
    "    def push(self, element):\n",
    "        self.items.append(element)\n",
    "        \n",
    "    def pop(self):\n",
    "        return self.items.pop()\n",
    "    \n",
    "    def get_size(self):\n",
    "        return len(self.items)\n",
    "    \n",
    "    def is_empty(self):\n",
    "        return self.items == []\n",
    "    "
   ]
  },
  {
   "cell_type": "code",
   "execution_count": 9,
   "id": "cd6a64c3",
   "metadata": {},
   "outputs": [
    {
     "name": "stdout",
     "output_type": "stream",
     "text": [
      "Pushing 1\n",
      "Pushing 2\n",
      "Pushing 3\n",
      "Pushing 4\n",
      "Pushing 5\n",
      "Got 5 from pop result\n",
      "Got 4 from pop result\n",
      "Got 3 from pop result\n",
      "Got 2 from pop result\n",
      "Got 1 from pop result\n"
     ]
    }
   ],
   "source": [
    "numbers = [1,2,3,4,5]\n",
    "\n",
    "def print_inverted_list(my_collection):\n",
    "    stack = Stack()\n",
    "    for number in numbers:\n",
    "        print(\"Pushing %s\" % number)\n",
    "        stack.push(number)\n",
    "    while not stack.is_empty():\n",
    "        number = stack.pop()\n",
    "        print(\"Got %s from pop result\" % number)\n",
    "        \n",
    "print_inverted_list(numbers)        "
   ]
  },
  {
   "cell_type": "markdown",
   "id": "dacc747b",
   "metadata": {},
   "source": [
    "# Mini Challenge 1\n",
    "### Use a stack to invert a string.\n",
    "##### Given \"mystring\" as a parameter, invert it.\n",
    "```\n",
    "Examples:\n",
    "Rafael -> leafaR\n",
    "Colin -> nicloC\n",
    "\n",
    "`suggestions: reverse_string(mystring)"
   ]
  },
  {
   "cell_type": "code",
   "execution_count": 11,
   "id": "23070294",
   "metadata": {},
   "outputs": [
    {
     "name": "stdout",
     "output_type": "stream",
     "text": [
      "Reversed string is cba\n"
     ]
    }
   ],
   "source": [
    "def reverse(string):\n",
    "    string = string[::-1]\n",
    "    return string\n",
    "string = \"abc\"\n",
    "string = reverse(string)\n",
    "print(\"Reversed string is \" + string)"
   ]
  },
  {
   "cell_type": "code",
   "execution_count": 13,
   "id": "dd79b9f1",
   "metadata": {},
   "outputs": [
    {
     "name": "stdout",
     "output_type": "stream",
     "text": [
      "Welcome to Educative!\n"
     ]
    }
   ],
   "source": [
    "def reverse_string(stack, input_str):\n",
    "  for i in range(len(input_str)):\n",
    "    stack.push(input_str[i])\n",
    "  rev_str = \"\"\n",
    "  while not stack.is_empty():\n",
    "    rev_str += stack.pop()\n",
    "\n",
    "  return rev_str\n",
    "\n",
    "stack = Stack()\n",
    "input_str = \"!evitacudE ot emocleW\"\n",
    "print(reverse_string(stack, input_str))"
   ]
  },
  {
   "cell_type": "code",
   "execution_count": 14,
   "id": "807415bf",
   "metadata": {},
   "outputs": [],
   "source": [
    "class Queue:\n",
    "    def __init__(self):\n",
    "        selt.items = []\n",
    "        \n",
    "    def enqueue(self, element):\n",
    "        self.items.append(element)\n",
    "        \n",
    "    def dequeue(self):\n",
    "        self.items.pop(0)\n",
    "        \n",
    "    def get_size(self):\n",
    "        return len(self.items)\n",
    "    \n",
    "    def is_empty(self):\n",
    "        return self.items == []"
   ]
  },
  {
   "cell_type": "code",
   "execution_count": 15,
   "id": "77451776",
   "metadata": {},
   "outputs": [
    {
     "name": "stdout",
     "output_type": "stream",
     "text": [
      "Initial queue\n",
      "['a', 'b', 'c']\n",
      "\n",
      "Elements dequeued from queue\n",
      "a\n",
      "b\n",
      "c\n",
      "\n",
      "Queue after removing elements\n",
      "[]\n"
     ]
    }
   ],
   "source": [
    "\n",
    "queue = []\n",
    "  \n",
    "\n",
    "queue.append('a')\n",
    "queue.append('b')\n",
    "queue.append('c')\n",
    "  \n",
    "print(\"Initial queue\")\n",
    "print(queue)\n",
    "  \n",
    "\n",
    "print(\"\\nElements dequeued from queue\")\n",
    "print(queue.pop(0))\n",
    "print(queue.pop(0))\n",
    "print(queue.pop(0))\n",
    "  \n",
    "print(\"\\nQueue after removing elements\")\n",
    "print(queue)"
   ]
  },
  {
   "cell_type": "code",
   "execution_count": null,
   "id": "e75944fa",
   "metadata": {},
   "outputs": [],
   "source": []
  }
 ],
 "metadata": {
  "kernelspec": {
   "display_name": "Python 3 (ipykernel)",
   "language": "python",
   "name": "python3"
  },
  "language_info": {
   "codemirror_mode": {
    "name": "ipython",
    "version": 3
   },
   "file_extension": ".py",
   "mimetype": "text/x-python",
   "name": "python",
   "nbconvert_exporter": "python",
   "pygments_lexer": "ipython3",
   "version": "3.8.10"
  }
 },
 "nbformat": 4,
 "nbformat_minor": 5
}
